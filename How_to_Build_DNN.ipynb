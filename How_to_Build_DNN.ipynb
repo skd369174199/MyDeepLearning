{
 "cells": [
  {
   "cell_type": "markdown",
   "metadata": {},
   "source": [
    "# 如何建立一个深度神经网络"
   ]
  },
  {
   "cell_type": "code",
   "execution_count": 1,
   "metadata": {},
   "outputs": [
    {
     "name": "stderr",
     "output_type": "stream",
     "text": [
      "D:\\Anaconda3\\lib\\site-packages\\h5py\\__init__.py:36: FutureWarning: Conversion of the second argument of issubdtype from `float` to `np.floating` is deprecated. In future, it will be treated as `np.float64 == np.dtype(float).type`.\n",
      "  from ._conv import register_converters as _register_converters\n"
     ]
    }
   ],
   "source": [
    "import numpy as np\n",
    "import h5py\n",
    "import matplotlib.pyplot as plt\n",
    "# from dnn_utils_v2 import sigmoid, sigmoid_backward, relu, relu_backward\n",
    "\n",
    "%matplotlib inline\n",
    "plt.rcParams['figure.figsize'] = (5.0, 4.0) # set default size of plots\n",
    "plt.rcParams['image.interpolation'] = 'nearest'\n",
    "plt.rcParams['image.cmap'] = 'gray'\n",
    "\n",
    "%load_ext autoreload\n",
    "%autoreload 2\n",
    "\n",
    "np.random.seed(1)"
   ]
  },
  {
   "cell_type": "markdown",
   "metadata": {},
   "source": [
    "# 1 Initialization\n",
    "\n",
    "对于L层的神经网络首先进行参数初始化\n",
    "0层X是（12288，209） examples的数量m = 209\n",
    "\n",
    "<table style=\"width:100%\">\n",
    "\n",
    "\n",
    "    <tr>\n",
    "        <td>  </td> \n",
    "        <td> **Shape of W** </td> \n",
    "        <td> **Shape of b**  </td> \n",
    "        <td> **Activation** </td>\n",
    "        <td> **Shape of Activation** </td> \n",
    "    <tr>\n",
    "    \n",
    "    <tr>\n",
    "        <td> **Layer 1** </td> \n",
    "        <td> $(n^{[1]},12288)$ </td> \n",
    "        <td> $(n^{[1]},1)$ </td> \n",
    "        <td> $Z^{[1]} = W^{[1]}  X + b^{[1]} $ </td> \n",
    "        \n",
    "        <td> $(n^{[1]},209)$ </td> \n",
    "    <tr>\n",
    "    \n",
    "    <tr>\n",
    "        <td> **Layer 2** </td> \n",
    "        <td> $(n^{[2]}, n^{[1]})$  </td> \n",
    "        <td> $(n^{[2]},1)$ </td> \n",
    "        <td>$Z^{[2]} = W^{[2]} A^{[1]} + b^{[2]}$ </td> \n",
    "        <td> $(n^{[2]}, 209)$ </td> \n",
    "    <tr>\n",
    "   \n",
    "       <tr>\n",
    "        <td> $\\vdots$ </td> \n",
    "        <td> $\\vdots$  </td> \n",
    "        <td> $\\vdots$  </td> \n",
    "        <td> $\\vdots$</td> \n",
    "        <td> $\\vdots$  </td> \n",
    "    <tr>\n",
    "    \n",
    "   <tr>\n",
    "        <td> **Layer L-1** </td> \n",
    "        <td> $(n^{[L-1]}, n^{[L-2]})$ </td> \n",
    "        <td> $(n^{[L-1]}, 1)$  </td> \n",
    "        <td>$Z^{[L-1]} =  W^{[L-1]} A^{[L-2]} + b^{[L-1]}$ </td> \n",
    "        <td> $(n^{[L-1]}, 209)$ </td> \n",
    "    <tr>\n",
    "    \n",
    "    \n",
    "   <tr>\n",
    "        <td> **Layer L** </td> \n",
    "        <td> $(n^{[L]}, n^{[L-1]})$ </td> \n",
    "        <td> $(n^{[L]}, 1)$ </td>\n",
    "        <td> $Z^{[L]} =  W^{[L]} A^{[L-1]} + b^{[L]}$</td>\n",
    "        <td> $(n^{[L]}, 209)$  </td> \n",
    "    <tr>\n",
    "\n",
    "</table>"
   ]
  },
  {
   "cell_type": "code",
   "execution_count": 2,
   "metadata": {},
   "outputs": [],
   "source": [
    "def initialize_parameter_deep(lay_dims):\n",
    "    parameters = {}\n",
    "    L = len(layer_dims)            # L是的神经网络的层数，包括0层\n",
    "\n",
    "    #对第1到最后一层的参数初始化\n",
    "    for l in range(1, L):        \n",
    "        parameters['W' + str(l)] = np.random.randn(layer_dims[l],layer_dims[l-1])*0.01\n",
    "        # W[l]是(n[l], n[l-1])矩阵\n",
    "        parameters['b' + str(l)] = np.zeros((layer_dims[l],1))\n",
    "        # b[l]是(n[l], 1)矩阵\n",
    "        \n",
    "        assert(parameters['W' + str(l)].shape == (layer_dims[l], layer_dims[l-1]))\n",
    "        assert(parameters['b' + str(l)].shape == (layer_dims[l], 1))\n",
    "       \n",
    "    return parameters  # 把所有W和b都放到一个dictionary里储存起来"
   ]
  },
  {
   "cell_type": "markdown",
   "metadata": {},
   "source": [
    "# 2 前向传播法\n",
    "## 2.1 线性前向传播\n",
    "\n",
    "$$Z^{[l]} = W^{[l]}A^{[l-1]} +b^{[l]}\\tag{4}$$\n",
    "\n",
    "where $A^{[0]} = X$. "
   ]
  },
  {
   "cell_type": "code",
   "execution_count": 3,
   "metadata": {},
   "outputs": [],
   "source": [
    "# 定义一个前向传播函数\n",
    "def linear_forward(A, W, b):\n",
    "   # 输入A[l-1], W[l], b[l]可以求出Z[l]\n",
    "    Z = np.dot(W,A) + b\n",
    "    \n",
    "    assert(Z.shape == (W.shape[0], A.shape[1]))\n",
    "    cache = (A, W, b) # 把输入的A[l-1], W[l], b[l]缓存到一个tuple里面\n",
    "    \n",
    "    return Z, cache     "
   ]
  },
  {
   "cell_type": "markdown",
   "metadata": {},
   "source": [
    "## 2.2 激活函数\n",
    "\n",
    "**Sigmoid**: $\\sigma(Z) = \\sigma(W A + b) = \\frac{1}{ 1 + e^{-(W A + b)}}$.\n",
    "\n",
    "**ReLU**: $A = RELU(Z) = max(0, Z)$.\n",
    "\n",
    "\n",
    " $A^{[l]} = g(Z^{[l]}) = g(W^{[l]}A^{[l-1]} +b^{[l]})$ "
   ]
  },
  {
   "cell_type": "code",
   "execution_count": 4,
   "metadata": {},
   "outputs": [],
   "source": [
    "def linear_activation_forward(A_prev, W, b, activation):\n",
    "    \n",
    "# 用2.1的函数算出Z[l]=W[l]A[l-1]+b[l]\n",
    "    # 如果是sigmoid函数层，\n",
    "    # 算出A[l]=sigmoid(Z[l])\n",
    "    if activation == \"sigmoid\":\n",
    "        Z, linear_cache = linear_forward(A_prev, W, b)\n",
    "        # linear_cache = (A[l-1], W[l], b[l])\n",
    "        A, activation_cache = sigmoid(Z)\n",
    "        # activation_cache = Z[l]\n",
    "    \n",
    "    # 如果激励函数是reLU函数的层，A[l]=reLU(Z[l])\n",
    "    elif activation == \"relu\":\n",
    "        Z, linear_cache = linear_forward(A_prev, W, b)\n",
    "        A, activation_cache = relu(Z)\n",
    "        ### END CODE HERE ###\n",
    "    \n",
    "    assert (A.shape == (W.shape[0], A_prev.shape[1]))  # A是(n[l],m)矩阵\n",
    "    cache = (linear_cache, activation_cache)\n",
    "\n",
    "    return A, cache  # 输出A[l], cache = (A[l-1],W[l],b[l],Z[l])"
   ]
  },
  {
   "cell_type": "markdown",
   "metadata": {},
   "source": [
    "## 2.3 L层神经网络模型\n",
    "\n",
    "### L-1层是reLU函数层，最后一层第L层是sigmoid函数层，利用上面定义好的函数求出每一层的值。"
   ]
  },
  {
   "cell_type": "code",
   "execution_count": 5,
   "metadata": {},
   "outputs": [],
   "source": [
    "# 输入参数X，和初始化的每一层的W,b\n",
    "def L_model_forward(X, parameters):\n",
    "\n",
    "    caches = []\n",
    "    A = X\n",
    "    L = len(parameters) // 2                  # L层神经网络\n",
    "    \n",
    "    # 重复循环执行L-1遍的reLU函数层计算\n",
    "    for l in range(1, L):\n",
    "        A_prev = A \n",
    "        # 用2.2的函数，算出(A[l-1],W[l],b[l],Z[l])，并全部放到一个List里\n",
    "        A, cache = linear_activation_forward(A_prev, parameters['W'+str(l)], parameters['b'+str(l)], activation='relu')\n",
    "        caches.append(cache)\n",
    "        '''\n",
    "此循环主要是为了得到caches = [(A[0],W[1],b[1],Z[1]),\n",
    "                                        .\n",
    "                                        .\n",
    "                                        .\n",
    "                            (A[l-1],W[l],b[l],Z[l])\n",
    "                                        .\n",
    "                                        .\n",
    "                                        .\n",
    "                        (A[L-2],W[L-1],b[L-1],Z[L-1])]\n",
    "        '''\n",
    "    \n",
    "# 上面循环最终的输出的A = A[L-1]，执行最后一层的sigmoid层计算，\n",
    "# 带入linear_activation_forward函数可以得到 A[L] 和 (A[L-1],W[L],b[L],A[L])\n",
    "    AL, cache = linear_activation_forward(A, parameters['W'+str(L)], parameters['b'+str(L)], activation='sigmoid')\n",
    "    caches.append(cache)\n",
    "    '''\n",
    "    把最后一个cache加入则可以得到\n",
    "    caches = [(A[0],W[1],b[1],Z[1]),\n",
    "                        .\n",
    "                        .\n",
    "                        .\n",
    "             (A[l-1],W[l],b[l],Z[l])\n",
    "                        .\n",
    "                        .\n",
    "                        .\n",
    "            (A[L-1],W[L],b[L],Z[L])]  \n",
    "    ''' \n",
    "    \n",
    "    assert(AL.shape == (1,X.shape[1]))      # A[L]也就是 y^是 1Xm的矩阵\n",
    "            \n",
    "    return AL, caches "
   ]
  },
  {
   "cell_type": "markdown",
   "metadata": {},
   "source": [
    "# 3 Cost function\n",
    "\n",
    "$$J = -\\frac{1}{m} \\sum\\limits_{i = 1}^{m} (y^{(i)}\\log\\left(a^{[L] (i)}\\right) + (1-y^{(i)})\\log\\left(1- a^{[L](i)}\\right)) $$"
   ]
  },
  {
   "cell_type": "code",
   "execution_count": 6,
   "metadata": {},
   "outputs": [],
   "source": [
    "def compute_cost(AL, Y):\n",
    "#输入由上面函数得出的最后一层输出的预测值 y^ = A[L] 和实际值 Y\n",
    "    m = Y.shape[1]  \n",
    "    cost = -1/m * np.sum(Y*np.log(AL)+(1-Y)*np.log(1-AL))\n",
    "    \n",
    "    cost = np.squeeze(cost)     \n",
    "    assert(cost.shape == ())\n",
    "    \n",
    "    return cost\n",
    "# 输出 Cost的值"
   ]
  },
  {
   "cell_type": "markdown",
   "metadata": {},
   "source": [
    "# 4 Backward propagation\n",
    "## 4.1 后向传播线性部分\n",
    "\n",
    "### $Z^{[l]} = W^{[l]} A^{[l-1]} + b^{[l]}$\n",
    "\n",
    "### dZ[l]/dW[l] = A[l-1]\n",
    "### dZ[l]/db[l] = 1\n",
    "### dZ[l]/dA[l-1] = W[l]"
   ]
  },
  {
   "cell_type": "markdown",
   "metadata": {},
   "source": [
    "每一层输入 $dZ^{[l]} = \\frac{\\partial \\mathcal{L} }{\\partial Z^{[l]}}$\n",
    "输出 $(dW^{[l]}, db^{[l]}, dA^{[l-1]})$\n",
    "链式法则\n",
    "$$ dW^{[l]} = \\frac{\\partial \\mathcal{L} }{\\partial W^{[l]}} = \\frac{1}{m} dZ^{[l]} A^{[l-1] T} \\tag{8}$$\n",
    "$$ db^{[l]} = \\frac{\\partial \\mathcal{L} }{\\partial b^{[l]}} = \\frac{1}{m} \\sum_{i = 1}^{m} dZ^{[l](i)}\\tag{9}$$\n",
    "$$ dA^{[l-1]} = \\frac{\\partial \\mathcal{L} }{\\partial A^{[l-1]}} = W^{[l] T} dZ^{[l]} \\tag{10}$$"
   ]
  },
  {
   "cell_type": "code",
   "execution_count": 7,
   "metadata": {},
   "outputs": [],
   "source": [
    "# 定义一个函数，输入dZ[l], cache = (A[l-1],W[l],b[l])，此可由上面2.3的函数求出。\n",
    "# 输出dA[l-1], dW[l], db[l]\n",
    "def linear_backward(dZ, cache):\n",
    "    A_prev, W, b = cache\n",
    "    m = A_prev.shape[1]\n",
    "\n",
    "    dW = 1/m * np.dot(dZ, A_prev.T)\n",
    "    db = 1/m * np.sum(dZ, axis=1, keepdims=True )\n",
    "    dA_prev = np.dot(W.T, dZ)\n",
    "\n",
    "    assert (dA_prev.shape == A_prev.shape)\n",
    "    assert (dW.shape == W.shape)\n",
    "    assert (db.shape == b.shape)\n",
    "    \n",
    "    return dA_prev, dW, db"
   ]
  },
  {
   "cell_type": "markdown",
   "metadata": {},
   "source": [
    "## 4.2 后向传播线性激励函数\n",
    "\n",
    "### 当该层是sigmoid函数层时，dZ = sigmoid_backward(dA, activation_cache)\n",
    "输入（dA[l], A[l]) 得到dZ[l], 原理是$$dZ^{[l]} = dA^{[l]} * g'(Z^{[l]}) $$\n",
    "\n",
    "### 当该层是relu函数层时， dZ = relu_backward(dA, activation_cache)"
   ]
  },
  {
   "cell_type": "code",
   "execution_count": 8,
   "metadata": {},
   "outputs": [],
   "source": [
    "# 定义个函数，输入（dA[l], cache = (A[l-1],W[l],b[l],Z[l]), 激励函数的名字）\n",
    "def linear_activation_backward(dA, cache, activation):\n",
    "\n",
    "    linear_cache, activation_cache = cache\n",
    "# 用4.1的函数，求出dA[l-1], dW[l], db[l]\n",
    "    if activation == \"relu\":\n",
    "        dZ = relu_backward(dA, activation_cache)    # dZ[l] = relu_backward(dA[l], A[l])\n",
    "        dA_prev, dW, db = linear_backward(dZ, linear_cache)\n",
    "        \n",
    "    elif activation == \"sigmoid\":\n",
    "        dZ = sigmoid_backward(dA, activation_cache)   # dZ[l] = sigmoid_backward(dA[l], A[l])\n",
    "        dA_prev, dW, db = linear_backward(dZ, linear_cache)\n",
    "    \n",
    "    return dA_prev, dW, db   \n",
    "    # dA[l-1], dW[l], db[l] = linear_backward(dZ[l],(A[l-1],W[l],b[l]))"
   ]
  },
  {
   "cell_type": "markdown",
   "metadata": {},
   "source": [
    "## 4.3 L-Model Backward\n",
    "用前向传播求出的A, W, b求出梯度"
   ]
  },
  {
   "cell_type": "code",
   "execution_count": 9,
   "metadata": {},
   "outputs": [],
   "source": [
    "# 定义函数用后向传播，输入A[L],Y, 和caches = (A[l-1],W[l],b[l],Z[l])的集合，求出dA,dW,db,放入dictionary中。\n",
    "def L_model_backward(AL, Y, caches):\n",
    "    grads = {}\n",
    "    L = len(caches) # 神经网络层数\n",
    "    m = AL.shape[1]\n",
    "    Y = Y.reshape(AL.shape) # Y与A[L]的shape相同\n",
    "    \n",
    "    # 第一步先求出dA[L],对最后一层的loss function求导\n",
    "    dAL = - (np.divide(Y, AL) - np.divide(1 - Y, 1 - AL)) \n",
    "    \n",
    "    # 当前调用的缓存cache = (A[L-1],W[L],b[L],Z[L])\n",
    "    current_cache = caches[L-1]\n",
    "    grads[\"dA\" + str(L-1)], grads[\"dW\" + str(L)], grads[\"db\" + str(L)] = linear_activation_backward(dAL, current_cache, activation = \"sigmoid\")\n",
    "    # 使用linear_activation_backward函数，可以求出 dA[L-1], dW[L], db[L]\n",
    "    \n",
    "    # 从L-1到1层的激励函数是reLU函数，循环计算L-1次,从l=L-2开始，到l=0为止\n",
    "    for l in reversed(range(L-1)):\n",
    "        # Inputs: \"grads[\"dA\" + str(l + 1)], current_cache\". Outputs: \"grads[\"dA\" + str(l)] , grads[\"dW\" + str(l + 1)] , grads[\"db\" + str(l + 1)] \n",
    "        # 当前调用缓存cache = (A[l-1],W[l],b[l],Z[l])\n",
    "        # 从(A[L-2],W[L-1],b[L-1],Z[L-1])到(A[0],W[1],b[1],Z[1])\n",
    "        current_cache = caches[l]\n",
    "        dA_prev_temp, dW_temp, db_temp = linear_activation_backward(grads[\"dA\"+str(l+1)], current_cache, activation = \"relu\")\n",
    "        grads[\"dA\" + str(l)] = dA_prev_temp\n",
    "        grads[\"dW\" + str(l + 1)] = dW_temp\n",
    "        grads[\"db\" + str(l + 1)] = db_temp\n",
    "        # 用linear_activation_backward函数，计算出dA[L-2],dW[L-1],db[L-1]到dA[0],dW[1],db[1]\n",
    "\n",
    "    return grads"
   ]
  },
  {
   "cell_type": "markdown",
   "metadata": {},
   "source": [
    "## 4.4 参数更新\n",
    "\n",
    "$$ W^{[l]} = W^{[l]} - \\alpha \\text{ } dW^{[l]} $$\n",
    "$$ b^{[l]} = b^{[l]} - \\alpha \\text{ } db^{[l]} $$"
   ]
  },
  {
   "cell_type": "code",
   "execution_count": 10,
   "metadata": {},
   "outputs": [],
   "source": [
    "# 输入参数W,b,dW,db,学习率α来求出经过一次梯度下降之后的W, b\n",
    "def update_parameters(parameters, grads, learning_rate):\n",
    "    \n",
    "    L = len(parameters) // 2   # 神经网络的层数\n",
    "\n",
    "    for l in range(L):\n",
    "        parameters[\"W\" + str(l+1)] = parameters['W'+str(l+1)] - learning_rate*grads['dW'+str(l+1)]\n",
    "        parameters[\"b\" + str(l+1)] = parameters['b'+str(l+1)] - learning_rate*grads['db'+str(l+1)]\n",
    "    \n",
    "    return parameters"
   ]
  },
  {
   "cell_type": "markdown",
   "metadata": {},
   "source": [
    "# 5 使用L层神经网络"
   ]
  },
  {
   "cell_type": "code",
   "execution_count": 11,
   "metadata": {},
   "outputs": [],
   "source": [
    "def L_layer_model(X, Y, layers_dims, learning_rate = 0.0075, num_iterations = 3000, print_cost=False):#lr was 0.009\n",
    "\n",
    "    np.random.seed(1)\n",
    "    costs = []                         # 追踪cost\n",
    "    \n",
    "    parameters = initialize_parameters_deep(layers_dims) \n",
    "    # 初始化参数\n",
    "    \n",
    "    # 用梯度下降法循环迭代（这里是3000次）\n",
    "    for i in range(0, num_iterations):\n",
    "\n",
    "        AL, caches = L_model_forward(X, parameters)  # 使用前向传播算法计算出每一层的A，W，b\n",
    "       \n",
    "        cost = compute_cost(AL, Y) # 计算出Cost\n",
    "        \n",
    "        # 使用后向传播算法计算出每一层的梯度dA[l-1],dW[l],db[l]\n",
    "        grads = L_model_backward(AL, Y, caches)\n",
    "       \n",
    "        # 用梯度下降法更新参数W,b\n",
    "        parameters = update_parameters(parameters, grads, learning_rate)\n",
    "        \n",
    "        # 每100次迭代计算一下cost的值\n",
    "        if print_cost and i % 100 == 0:\n",
    "            print (\"Cost after iteration %i: %f\" %(i, cost))\n",
    "        if print_cost and i % 100 == 0:\n",
    "            costs.append(cost)\n",
    "            \n",
    "    # plot the cost\n",
    "    plt.plot(np.squeeze(costs))\n",
    "    plt.ylabel('cost')\n",
    "    plt.xlabel('iterations (per tens)')\n",
    "    plt.title(\"Learning rate =\" + str(learning_rate))\n",
    "    plt.show()\n",
    "    \n",
    "    return parameters\n",
    "\n",
    "# 经过N次迭代，得到优化的参数W,b"
   ]
  },
  {
   "cell_type": "markdown",
   "metadata": {},
   "source": [
    "# 6 用神经网络训练好的参数预测模型"
   ]
  },
  {
   "cell_type": "markdown",
   "metadata": {},
   "source": [
    "## pred_train = predict(train_x, train_y, parameters)"
   ]
  }
 ],
 "metadata": {
  "kernelspec": {
   "display_name": "Python 3",
   "language": "python",
   "name": "python3"
  },
  "language_info": {
   "codemirror_mode": {
    "name": "ipython",
    "version": 3
   },
   "file_extension": ".py",
   "mimetype": "text/x-python",
   "name": "python",
   "nbconvert_exporter": "python",
   "pygments_lexer": "ipython3",
   "version": "3.6.4"
  }
 },
 "nbformat": 4,
 "nbformat_minor": 2
}
